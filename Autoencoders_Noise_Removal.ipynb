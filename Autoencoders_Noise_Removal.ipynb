{
  "nbformat": 4,
  "nbformat_minor": 0,
  "metadata": {
    "colab": {
      "name": "day11 Autoencoders - Noise Removal.ipynb",
      "version": "0.3.2",
      "provenance": [],
      "collapsed_sections": []
    },
    "language_info": {
      "codemirror_mode": {
        "name": "ipython",
        "version": 3
      },
      "file_extension": ".py",
      "mimetype": "text/x-python",
      "name": "python",
      "nbconvert_exporter": "python",
      "pygments_lexer": "ipython3",
      "version": "3.6.8"
    },
    "kernelspec": {
      "name": "python3",
      "display_name": "Python 3"
    },
    "accelerator": "GPU"
  },
  "cells": [
    {
      "cell_type": "markdown",
      "metadata": {
        "id": "ANteCZx3bvxJ",
        "colab_type": "text"
      },
      "source": [
        "### Application :\n",
        "          Noise Removal"
      ]
    },
    {
      "cell_type": "code",
      "metadata": {
        "id": "XWYWMo9rbvxL",
        "colab_type": "code",
        "colab": {}
      },
      "source": [
        "# Unsupervised learning with CNN\n",
        "#using Functional Programming\n",
        "#imagenet has 100 of real object's pic and each object has 1000 pics of it "
      ],
      "execution_count": 0,
      "outputs": []
    },
    {
      "cell_type": "code",
      "metadata": {
        "id": "10W1bos7bvxl",
        "colab_type": "code",
        "outputId": "1ad43c07-36a2-4067-ae67-a13eac046513",
        "colab": {
          "base_uri": "https://localhost:8080/",
          "height": 34
        }
      },
      "source": [
        "from keras.datasets import mnist\n",
        "import numpy as np\n",
        "import matplotlib.pyplot as plt\n",
        "%matplotlib inline"
      ],
      "execution_count": 1,
      "outputs": [
        {
          "output_type": "stream",
          "text": [
            "Using TensorFlow backend.\n"
          ],
          "name": "stderr"
        }
      ]
    },
    {
      "cell_type": "code",
      "metadata": {
        "id": "7k5IFaIAbvxy",
        "colab_type": "code",
        "outputId": "1dde3bbe-97e0-43b2-8d04-806d48efe000",
        "colab": {
          "base_uri": "https://localhost:8080/",
          "height": 50
        }
      },
      "source": [
        "(x_train, _), (x_test, _) = mnist.load_data()"
      ],
      "execution_count": 2,
      "outputs": [
        {
          "output_type": "stream",
          "text": [
            "Downloading data from https://s3.amazonaws.com/img-datasets/mnist.npz\n",
            "11493376/11490434 [==============================] - 0s 0us/step\n"
          ],
          "name": "stdout"
        }
      ]
    },
    {
      "cell_type": "code",
      "metadata": {
        "id": "M_1aqutDbvx2",
        "colab_type": "code",
        "colab": {}
      },
      "source": [
        "x_train = x_train.astype('float32')/255     #we are changing it into float so that value zero na ho \n",
        "x_test = x_test.astype('float32')/255"
      ],
      "execution_count": 0,
      "outputs": []
    },
    {
      "cell_type": "code",
      "metadata": {
        "id": "lFrefIBnbvx9",
        "colab_type": "code",
        "outputId": "9b00beed-ac86-4f77-a2b3-f71d9e40c718",
        "colab": {
          "base_uri": "https://localhost:8080/",
          "height": 34
        }
      },
      "source": [
        "x_train = x_train.reshape(-1,28,28,1)\n",
        "x_test = x_test.reshape(-1,28,28,1)\n",
        "\n",
        "print(x_train.shape, x_test.shape)"
      ],
      "execution_count": 4,
      "outputs": [
        {
          "output_type": "stream",
          "text": [
            "(60000, 28, 28, 1) (10000, 28, 28, 1)\n"
          ],
          "name": "stdout"
        }
      ]
    },
    {
      "cell_type": "code",
      "metadata": {
        "id": "YfbAFH8obvyI",
        "colab_type": "code",
        "colab": {}
      },
      "source": [
        "# adding noise into image as mnist has no noise\n",
        "noise_factor = 0.5\n",
        "\n",
        "x_train_noisy = x_train + noise_factor*np.random.normal(loc = 0.0,\n",
        "                                                       scale = 1.0,\n",
        "                                                       size = x_train.shape)\n",
        "\n",
        "x_test_noisy = x_test + noise_factor*np.random.normal(loc = 0.0,\n",
        "                                                       scale = 1.0,\n",
        "                                                       size = x_test.shape)\n",
        "\n",
        "x_train_noisy = np.clip(x_train_noisy, 0., 1.)\n",
        "x_test_noisy = np.clip(x_test_noisy, 0., 1.)"
      ],
      "execution_count": 0,
      "outputs": []
    },
    {
      "cell_type": "code",
      "metadata": {
        "id": "N5hJSMdDbvyM",
        "colab_type": "code",
        "outputId": "02441ca4-677d-4971-88ba-044752ace457",
        "colab": {
          "base_uri": "https://localhost:8080/",
          "height": 166
        }
      },
      "source": [
        "n = 10 \n",
        "plt.figure(figsize = (20, 2))\n",
        "for i in range(1, n+1):\n",
        "    ax = plt.subplot(1, n, i)\n",
        "    plt.imshow(x_test_noisy[i].reshape(28,28))\n",
        "    plt.gray()\n",
        "    \n",
        "plt.show()"
      ],
      "execution_count": 6,
      "outputs": [
        {
          "output_type": "display_data",
          "data": {
            "image/png": "[encoded data removed]",
            "text/plain": [
              "<Figure size 1440x144 with 10 Axes>"
            ]
          },
          "metadata": {
            "tags": []
          }
        }
      ]
    },
    {
      "cell_type": "code",
      "metadata": {
        "id": "fMsWf7Vjbvyb",
        "colab_type": "code",
        "colab": {}
      },
      "source": [
        ""
      ],
      "execution_count": 0,
      "outputs": []
    },
    {
      "cell_type": "code",
      "metadata": {
        "id": "1bGZP2n9bvyg",
        "colab_type": "code",
        "colab": {}
      },
      "source": [
        "import keras\n",
        "from keras.layers import Input, Dense, Conv2D, MaxPooling2D, UpSampling2D\n",
        "from keras.models import Model"
      ],
      "execution_count": 0,
      "outputs": []
    },
    {
      "cell_type": "code",
      "metadata": {
        "id": "DotMjZPzbvym",
        "colab_type": "code",
        "outputId": "0d16fbcf-6022-4bb7-f1ae-6a5ce3393ab9",
        "colab": {
          "base_uri": "https://localhost:8080/",
          "height": 793
        }
      },
      "source": [
        "input_img = Input(shape= (28, 28, 1))\n",
        "x = Conv2D(32, (3,3), activation = 'relu', padding = 'same')(input_img)\n",
        "x = MaxPooling2D((2,2), padding = 'same') (x)\n",
        "\n",
        "x = Conv2D(32, (3,3), activation = 'relu', padding = 'same')(x)\n",
        "encoded = MaxPooling2D((2,2), padding = 'same') (x)      #(7,7,32)\n",
        "\n",
        "#padding same use krne se conv2D change nhi kr paa rha h output ka size bcz padding same output same rkhegaa\n",
        "\n",
        "x = Conv2D(32, (3,3), activation = 'relu', padding = 'same')(encoded)\n",
        "x = UpSampling2D((2,2)) (x)  \n",
        "\n",
        "x = Conv2D(32, (3,3), activation = 'relu', padding = 'same')(x)\n",
        "x = UpSampling2D((2,2)) (x)  \n",
        "\n",
        "\n",
        "decoded = Conv2D(1, (3,3), activation = 'sigmoid', padding = 'same')(x)\n",
        "\n",
        "autoencoder = Model(input_img, decoded)\n",
        "autoencoder.compile(optimizer = 'adam', loss = 'binary_crossentropy')\n",
        "autoencoder.summary()\n",
        "\n"
      ],
      "execution_count": 8,
      "outputs": [
        {
          "output_type": "stream",
          "text": [
            "WARNING: Logging before flag parsing goes to stderr.\n",
            "W0702 21:58:07.366448 140381628938112 deprecation_wrapper.py:119] From /usr/local/lib/python3.6/dist-packages/keras/backend/tensorflow_backend.py:74: The name tf.get_default_graph is deprecated. Please use tf.compat.v1.get_default_graph instead.\n",
            "\n",
            "W0702 21:58:07.401074 140381628938112 deprecation_wrapper.py:119] From /usr/local/lib/python3.6/dist-packages/keras/backend/tensorflow_backend.py:517: The name tf.placeholder is deprecated. Please use tf.compat.v1.placeholder instead.\n",
            "\n",
            "W0702 21:58:07.407457 140381628938112 deprecation_wrapper.py:119] From /usr/local/lib/python3.6/dist-packages/keras/backend/tensorflow_backend.py:4138: The name tf.random_uniform is deprecated. Please use tf.random.uniform instead.\n",
            "\n",
            "W0702 21:58:07.432841 140381628938112 deprecation_wrapper.py:119] From /usr/local/lib/python3.6/dist-packages/keras/backend/tensorflow_backend.py:3976: The name tf.nn.max_pool is deprecated. Please use tf.nn.max_pool2d instead.\n",
            "\n",
            "W0702 21:58:07.462862 140381628938112 deprecation_wrapper.py:119] From /usr/local/lib/python3.6/dist-packages/keras/backend/tensorflow_backend.py:2018: The name tf.image.resize_nearest_neighbor is deprecated. Please use tf.compat.v1.image.resize_nearest_neighbor instead.\n",
            "\n",
            "W0702 21:58:07.492459 140381628938112 deprecation_wrapper.py:119] From /usr/local/lib/python3.6/dist-packages/keras/optimizers.py:790: The name tf.train.Optimizer is deprecated. Please use tf.compat.v1.train.Optimizer instead.\n",
            "\n",
            "W0702 21:58:07.512298 140381628938112 deprecation_wrapper.py:119] From /usr/local/lib/python3.6/dist-packages/keras/backend/tensorflow_backend.py:3376: The name tf.log is deprecated. Please use tf.math.log instead.\n",
            "\n",
            "W0702 21:58:07.518211 140381628938112 deprecation.py:323] From /usr/local/lib/python3.6/dist-packages/tensorflow/python/ops/nn_impl.py:180: add_dispatch_support.<locals>.wrapper (from tensorflow.python.ops.array_ops) is deprecated and will be removed in a future version.\n",
            "Instructions for updating:\n",
            "Use tf.where in 2.0, which has the same broadcast rule as np.where\n"
          ],
          "name": "stderr"
        },
        {
          "output_type": "stream",
          "text": [
            "_________________________________________________________________\n",
            "Layer (type)                 Output Shape              Param #   \n",
            "=================================================================\n",
            "input_1 (InputLayer)         (None, 28, 28, 1)         0         \n",
            "_________________________________________________________________\n",
            "conv2d_1 (Conv2D)            (None, 28, 28, 32)        320       \n",
            "_________________________________________________________________\n",
            "max_pooling2d_1 (MaxPooling2 (None, 14, 14, 32)        0         \n",
            "_________________________________________________________________\n",
            "conv2d_2 (Conv2D)            (None, 14, 14, 32)        9248      \n",
            "_________________________________________________________________\n",
            "max_pooling2d_2 (MaxPooling2 (None, 7, 7, 32)          0         \n",
            "_________________________________________________________________\n",
            "conv2d_3 (Conv2D)            (None, 7, 7, 32)          9248      \n",
            "_________________________________________________________________\n",
            "up_sampling2d_1 (UpSampling2 (None, 14, 14, 32)        0         \n",
            "_________________________________________________________________\n",
            "conv2d_4 (Conv2D)            (None, 14, 14, 32)        9248      \n",
            "_________________________________________________________________\n",
            "up_sampling2d_2 (UpSampling2 (None, 28, 28, 32)        0         \n",
            "_________________________________________________________________\n",
            "conv2d_5 (Conv2D)            (None, 28, 28, 1)         289       \n",
            "=================================================================\n",
            "Total params: 28,353\n",
            "Trainable params: 28,353\n",
            "Non-trainable params: 0\n",
            "_________________________________________________________________\n"
          ],
          "name": "stdout"
        }
      ]
    },
    {
      "cell_type": "code",
      "metadata": {
        "id": "fiplM7hAbvyw",
        "colab_type": "code",
        "outputId": "1a230b78-aabf-47e4-86ca-3c94e02da59d",
        "colab": {
          "base_uri": "https://localhost:8080/",
          "height": 1000
        }
      },
      "source": [
        "autoencoder.fit(x_train_noisy, x_train, epochs = 100 , batch_size = 128,\n",
        "               shuffle = True,\n",
        "               validation_data = (x_test_noisy, x_test))"
      ],
      "execution_count": 9,
      "outputs": [
        {
          "output_type": "stream",
          "text": [
            "W0702 21:58:11.628648 140381628938112 deprecation_wrapper.py:119] From /usr/local/lib/python3.6/dist-packages/keras/backend/tensorflow_backend.py:986: The name tf.assign_add is deprecated. Please use tf.compat.v1.assign_add instead.\n",
            "\n"
          ],
          "name": "stderr"
        },
        {
          "output_type": "stream",
          "text": [
            "Train on 60000 samples, validate on 10000 samples\n",
            "Epoch 1/100\n",
            "60000/60000 [==============================] - 9s 154us/step - loss: 0.1644 - val_loss: 0.1166\n",
            "Epoch 2/100\n",
            "60000/60000 [==============================] - 3s 57us/step - loss: 0.1119 - val_loss: 0.1070\n",
            "Epoch 3/100\n",
            "60000/60000 [==============================] - 3s 57us/step - loss: 0.1067 - val_loss: 0.1038\n",
            "Epoch 4/100\n",
            "60000/60000 [==============================] - 3s 57us/step - loss: 0.1040 - val_loss: 0.1018\n",
            "Epoch 5/100\n",
            "60000/60000 [==============================] - 3s 57us/step - loss: 0.1022 - val_loss: 0.1008\n",
            "Epoch 6/100\n",
            "60000/60000 [==============================] - 3s 57us/step - loss: 0.1008 - val_loss: 0.0993\n",
            "Epoch 7/100\n",
            "60000/60000 [==============================] - 3s 58us/step - loss: 0.0998 - val_loss: 0.0988\n",
            "Epoch 8/100\n",
            "60000/60000 [==============================] - 3s 57us/step - loss: 0.0990 - val_loss: 0.0979\n",
            "Epoch 9/100\n",
            "60000/60000 [==============================] - 3s 58us/step - loss: 0.0984 - val_loss: 0.0975\n",
            "Epoch 10/100\n",
            "60000/60000 [==============================] - 3s 57us/step - loss: 0.0978 - val_loss: 0.0967\n",
            "Epoch 11/100\n",
            "60000/60000 [==============================] - 3s 57us/step - loss: 0.0973 - val_loss: 0.0968\n",
            "Epoch 12/100\n",
            "60000/60000 [==============================] - 3s 57us/step - loss: 0.0970 - val_loss: 0.0964\n",
            "Epoch 13/100\n",
            "60000/60000 [==============================] - 3s 58us/step - loss: 0.0967 - val_loss: 0.0959\n",
            "Epoch 14/100\n",
            "60000/60000 [==============================] - 3s 58us/step - loss: 0.0964 - val_loss: 0.0959\n",
            "Epoch 15/100\n",
            "60000/60000 [==============================] - 3s 58us/step - loss: 0.0962 - val_loss: 0.0955\n",
            "Epoch 16/100\n",
            "60000/60000 [==============================] - 3s 57us/step - loss: 0.0960 - val_loss: 0.0953\n",
            "Epoch 17/100\n",
            "60000/60000 [==============================] - 3s 58us/step - loss: 0.0957 - val_loss: 0.0952\n",
            "Epoch 18/100\n",
            "60000/60000 [==============================] - 3s 58us/step - loss: 0.0956 - val_loss: 0.0949\n",
            "Epoch 19/100\n",
            "60000/60000 [==============================] - 3s 58us/step - loss: 0.0954 - val_loss: 0.0950\n",
            "Epoch 20/100\n",
            "60000/60000 [==============================] - 3s 58us/step - loss: 0.0953 - val_loss: 0.0953\n",
            "Epoch 21/100\n",
            "60000/60000 [==============================] - 3s 58us/step - loss: 0.0951 - val_loss: 0.0947\n",
            "Epoch 22/100\n",
            "60000/60000 [==============================] - 3s 58us/step - loss: 0.0950 - val_loss: 0.0945\n",
            "Epoch 23/100\n",
            "60000/60000 [==============================] - 4s 59us/step - loss: 0.0949 - val_loss: 0.0943\n",
            "Epoch 24/100\n",
            "60000/60000 [==============================] - 4s 58us/step - loss: 0.0948 - val_loss: 0.0944\n",
            "Epoch 25/100\n",
            "60000/60000 [==============================] - 3s 58us/step - loss: 0.0947 - val_loss: 0.0945\n",
            "Epoch 26/100\n",
            "60000/60000 [==============================] - 3s 58us/step - loss: 0.0946 - val_loss: 0.0950\n",
            "Epoch 27/100\n",
            "60000/60000 [==============================] - 3s 58us/step - loss: 0.0945 - val_loss: 0.0941\n",
            "Epoch 28/100\n",
            "60000/60000 [==============================] - 3s 58us/step - loss: 0.0945 - val_loss: 0.0943\n",
            "Epoch 29/100\n",
            "60000/60000 [==============================] - 3s 58us/step - loss: 0.0943 - val_loss: 0.0940\n",
            "Epoch 30/100\n",
            "60000/60000 [==============================] - 3s 58us/step - loss: 0.0944 - val_loss: 0.0944\n",
            "Epoch 31/100\n",
            "60000/60000 [==============================] - 3s 58us/step - loss: 0.0942 - val_loss: 0.0939\n",
            "Epoch 32/100\n",
            "60000/60000 [==============================] - 3s 58us/step - loss: 0.0942 - val_loss: 0.0938\n",
            "Epoch 33/100\n",
            "60000/60000 [==============================] - 3s 58us/step - loss: 0.0941 - val_loss: 0.0939\n",
            "Epoch 34/100\n",
            "60000/60000 [==============================] - 3s 58us/step - loss: 0.0941 - val_loss: 0.0939\n",
            "Epoch 35/100\n",
            "60000/60000 [==============================] - 3s 58us/step - loss: 0.0940 - val_loss: 0.0937\n",
            "Epoch 36/100\n",
            "60000/60000 [==============================] - 3s 58us/step - loss: 0.0940 - val_loss: 0.0937\n",
            "Epoch 37/100\n",
            "60000/60000 [==============================] - 3s 58us/step - loss: 0.0939 - val_loss: 0.0938\n",
            "Epoch 38/100\n",
            "60000/60000 [==============================] - 3s 58us/step - loss: 0.0939 - val_loss: 0.0937\n",
            "Epoch 39/100\n",
            "60000/60000 [==============================] - 3s 58us/step - loss: 0.0939 - val_loss: 0.0936\n",
            "Epoch 40/100\n",
            "60000/60000 [==============================] - 3s 58us/step - loss: 0.0938 - val_loss: 0.0938\n",
            "Epoch 41/100\n",
            "60000/60000 [==============================] - 4s 59us/step - loss: 0.0938 - val_loss: 0.0938\n",
            "Epoch 42/100\n",
            "60000/60000 [==============================] - 4s 59us/step - loss: 0.0938 - val_loss: 0.0936\n",
            "Epoch 43/100\n",
            "60000/60000 [==============================] - 4s 59us/step - loss: 0.0938 - val_loss: 0.0935\n",
            "Epoch 44/100\n",
            "60000/60000 [==============================] - 3s 58us/step - loss: 0.0937 - val_loss: 0.0935\n",
            "Epoch 45/100\n",
            "60000/60000 [==============================] - 4s 58us/step - loss: 0.0937 - val_loss: 0.0936\n",
            "Epoch 46/100\n",
            "60000/60000 [==============================] - 4s 58us/step - loss: 0.0936 - val_loss: 0.0935\n",
            "Epoch 47/100\n",
            "60000/60000 [==============================] - 4s 59us/step - loss: 0.0936 - val_loss: 0.0937\n",
            "Epoch 48/100\n",
            "60000/60000 [==============================] - 3s 58us/step - loss: 0.0936 - val_loss: 0.0934\n",
            "Epoch 49/100\n",
            "60000/60000 [==============================] - 3s 58us/step - loss: 0.0936 - val_loss: 0.0934\n",
            "Epoch 50/100\n",
            "60000/60000 [==============================] - 3s 58us/step - loss: 0.0935 - val_loss: 0.0933\n",
            "Epoch 51/100\n",
            "60000/60000 [==============================] - 3s 58us/step - loss: 0.0935 - val_loss: 0.0935\n",
            "Epoch 52/100\n",
            "60000/60000 [==============================] - 4s 58us/step - loss: 0.0935 - val_loss: 0.0933\n",
            "Epoch 53/100\n",
            "60000/60000 [==============================] - 4s 59us/step - loss: 0.0935 - val_loss: 0.0934\n",
            "Epoch 54/100\n",
            "60000/60000 [==============================] - 3s 58us/step - loss: 0.0935 - val_loss: 0.0934\n",
            "Epoch 55/100\n",
            "60000/60000 [==============================] - 3s 58us/step - loss: 0.0934 - val_loss: 0.0933\n",
            "Epoch 56/100\n",
            "60000/60000 [==============================] - 4s 58us/step - loss: 0.0934 - val_loss: 0.0932\n",
            "Epoch 57/100\n",
            "60000/60000 [==============================] - 3s 58us/step - loss: 0.0934 - val_loss: 0.0932\n",
            "Epoch 58/100\n",
            "60000/60000 [==============================] - 3s 58us/step - loss: 0.0934 - val_loss: 0.0932\n",
            "Epoch 59/100\n",
            "60000/60000 [==============================] - 3s 58us/step - loss: 0.0934 - val_loss: 0.0932\n",
            "Epoch 60/100\n",
            "60000/60000 [==============================] - 3s 58us/step - loss: 0.0934 - val_loss: 0.0933\n",
            "Epoch 61/100\n",
            "60000/60000 [==============================] - 4s 58us/step - loss: 0.0933 - val_loss: 0.0935\n",
            "Epoch 62/100\n",
            "60000/60000 [==============================] - 4s 58us/step - loss: 0.0933 - val_loss: 0.0931\n",
            "Epoch 63/100\n",
            "60000/60000 [==============================] - 3s 58us/step - loss: 0.0933 - val_loss: 0.0931\n",
            "Epoch 64/100\n",
            "60000/60000 [==============================] - 3s 58us/step - loss: 0.0933 - val_loss: 0.0932\n",
            "Epoch 65/100\n",
            "60000/60000 [==============================] - 4s 58us/step - loss: 0.0933 - val_loss: 0.0936\n",
            "Epoch 66/100\n",
            "60000/60000 [==============================] - 3s 58us/step - loss: 0.0933 - val_loss: 0.0934\n",
            "Epoch 67/100\n",
            "60000/60000 [==============================] - 4s 58us/step - loss: 0.0932 - val_loss: 0.0931\n",
            "Epoch 68/100\n",
            "60000/60000 [==============================] - 4s 59us/step - loss: 0.0932 - val_loss: 0.0933\n",
            "Epoch 69/100\n",
            "60000/60000 [==============================] - 4s 59us/step - loss: 0.0932 - val_loss: 0.0932\n",
            "Epoch 70/100\n",
            "60000/60000 [==============================] - 4s 59us/step - loss: 0.0932 - val_loss: 0.0934\n",
            "Epoch 71/100\n",
            "60000/60000 [==============================] - 3s 58us/step - loss: 0.0932 - val_loss: 0.0932\n",
            "Epoch 72/100\n",
            "60000/60000 [==============================] - 3s 58us/step - loss: 0.0932 - val_loss: 0.0933\n",
            "Epoch 73/100\n",
            "60000/60000 [==============================] - 3s 58us/step - loss: 0.0932 - val_loss: 0.0930\n",
            "Epoch 74/100\n",
            "60000/60000 [==============================] - 3s 58us/step - loss: 0.0931 - val_loss: 0.0932\n",
            "Epoch 75/100\n",
            "60000/60000 [==============================] - 4s 58us/step - loss: 0.0931 - val_loss: 0.0931\n",
            "Epoch 76/100\n",
            "60000/60000 [==============================] - 3s 58us/step - loss: 0.0931 - val_loss: 0.0931\n",
            "Epoch 77/100\n",
            "60000/60000 [==============================] - 4s 58us/step - loss: 0.0931 - val_loss: 0.0930\n",
            "Epoch 78/100\n",
            "60000/60000 [==============================] - 3s 58us/step - loss: 0.0931 - val_loss: 0.0932\n",
            "Epoch 79/100\n",
            "60000/60000 [==============================] - 4s 58us/step - loss: 0.0931 - val_loss: 0.0931\n",
            "Epoch 80/100\n",
            "60000/60000 [==============================] - 4s 59us/step - loss: 0.0931 - val_loss: 0.0930\n",
            "Epoch 81/100\n",
            "60000/60000 [==============================] - 4s 59us/step - loss: 0.0931 - val_loss: 0.0930\n",
            "Epoch 82/100\n",
            "60000/60000 [==============================] - 4s 59us/step - loss: 0.0931 - val_loss: 0.0931\n",
            "Epoch 83/100\n",
            "60000/60000 [==============================] - 4s 58us/step - loss: 0.0931 - val_loss: 0.0932\n",
            "Epoch 84/100\n",
            "60000/60000 [==============================] - 4s 58us/step - loss: 0.0930 - val_loss: 0.0931\n",
            "Epoch 85/100\n",
            "60000/60000 [==============================] - 4s 58us/step - loss: 0.0930 - val_loss: 0.0931\n",
            "Epoch 86/100\n",
            "60000/60000 [==============================] - 4s 58us/step - loss: 0.0930 - val_loss: 0.0929\n",
            "Epoch 87/100\n",
            "60000/60000 [==============================] - 4s 59us/step - loss: 0.0930 - val_loss: 0.0932\n",
            "Epoch 88/100\n",
            "60000/60000 [==============================] - 4s 59us/step - loss: 0.0930 - val_loss: 0.0930\n",
            "Epoch 89/100\n",
            "60000/60000 [==============================] - 4s 58us/step - loss: 0.0930 - val_loss: 0.0931\n",
            "Epoch 90/100\n",
            "60000/60000 [==============================] - 3s 58us/step - loss: 0.0930 - val_loss: 0.0929\n",
            "Epoch 91/100\n",
            "60000/60000 [==============================] - 4s 59us/step - loss: 0.0930 - val_loss: 0.0931\n",
            "Epoch 92/100\n",
            "60000/60000 [==============================] - 4s 59us/step - loss: 0.0930 - val_loss: 0.0930\n",
            "Epoch 93/100\n",
            "60000/60000 [==============================] - 4s 59us/step - loss: 0.0930 - val_loss: 0.0932\n",
            "Epoch 94/100\n",
            "60000/60000 [==============================] - 4s 59us/step - loss: 0.0930 - val_loss: 0.0930\n",
            "Epoch 95/100\n",
            "60000/60000 [==============================] - 4s 58us/step - loss: 0.0929 - val_loss: 0.0929\n",
            "Epoch 96/100\n",
            "60000/60000 [==============================] - 4s 59us/step - loss: 0.0929 - val_loss: 0.0931\n",
            "Epoch 97/100\n",
            "60000/60000 [==============================] - 4s 59us/step - loss: 0.0930 - val_loss: 0.0929\n",
            "Epoch 98/100\n",
            "60000/60000 [==============================] - 4s 59us/step - loss: 0.0929 - val_loss: 0.0930\n",
            "Epoch 99/100\n",
            "60000/60000 [==============================] - 4s 59us/step - loss: 0.0929 - val_loss: 0.0930\n",
            "Epoch 100/100\n",
            "60000/60000 [==============================] - 4s 58us/step - loss: 0.0929 - val_loss: 0.0929\n"
          ],
          "name": "stdout"
        },
        {
          "output_type": "execute_result",
          "data": {
            "text/plain": [
              "<keras.callbacks.History at 0x7facd8d90ef0>"
            ]
          },
          "metadata": {
            "tags": []
          },
          "execution_count": 9
        }
      ]
    },
    {
      "cell_type": "code",
      "metadata": {
        "id": "GXsltOdtbvy7",
        "colab_type": "code",
        "colab": {}
      },
      "source": [
        "final = autoencoder.predict(x_test_noisy)\n"
      ],
      "execution_count": 0,
      "outputs": []
    },
    {
      "cell_type": "code",
      "metadata": {
        "id": "S-Tg_65gtWP9",
        "colab_type": "code",
        "colab": {
          "base_uri": "https://localhost:8080/",
          "height": 166
        },
        "outputId": "c5898525-e87f-4031-b8fd-d6d5603b3a0f"
      },
      "source": [
        "n = 10 \n",
        "plt.figure(figsize = (20, 2))\n",
        "for i in range(1, n+1):\n",
        "    ax = plt.subplot(1, n, i)\n",
        "    plt.imshow(final[i].reshape(28,28))\n",
        "    plt.gray()\n",
        "    \n",
        "plt.show()"
      ],
      "execution_count": 13,
      "outputs": [
        {
          "output_type": "display_data",
          "data": {
            "image/png": "[encoded data removed]",
            "text/plain": [
              "<Figure size 1440x144 with 10 Axes>"
            ]
          },
          "metadata": {
            "tags": []
          }
        }
      ]
    },
    {
      "cell_type": "code",
      "metadata": {
        "id": "sz_cgaMjwUt6",
        "colab_type": "code",
        "colab": {}
      },
      "source": [
        ""
      ],
      "execution_count": 0,
      "outputs": []
    }
  ]
}